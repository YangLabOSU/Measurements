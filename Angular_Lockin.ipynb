{
 "cells": [
  {
   "cell_type": "code",
   "execution_count": 1,
   "id": "0b631445",
   "metadata": {},
   "outputs": [
    {
     "data": {
      "text/plain": [
       "('ASRL3::INSTR',\n",
       " 'GPIB0::10::INSTR',\n",
       " 'GPIB0::14::INSTR',\n",
       " 'GPIB0::15::INSTR',\n",
       " 'GPIB0::17::INSTR')"
      ]
     },
     "execution_count": 1,
     "metadata": {},
     "output_type": "execute_result"
    }
   ],
   "source": [
    "import pyvisa as visa\n",
    "import time\n",
    "import numpy as np\n",
    "import datetime\n",
    "import os\n",
    "\n",
    "from UtilsPPMS import *\n",
    "from UtilsBasic import *\n",
    "from UtilsKeithley6221 import *\n",
    "from UtilsSR865A import *\n",
    "\n",
    "rm = visa.ResourceManager()\n",
    "rm.list_resources()"
   ]
  },
  {
   "cell_type": "code",
   "execution_count": 2,
   "id": "b3583763",
   "metadata": {},
   "outputs": [
    {
     "name": "stdout",
     "output_type": "stream",
     "text": [
      "The final array generated is  [0, 10, 20, 30, 40, 50, 60, 70, 80, 90, 100, 110, 120, 130, 140, 150, 160, 170, 180, 190, 200, 210, 220, 230, 240, 250, 260, 270, 280, 290, 300, 310, 320, 330, 340, 350, 360]\n"
     ]
    }
   ],
   "source": [
    "angles = createArraywithSteps([0,360],[10])"
   ]
  },
  {
   "cell_type": "code",
   "execution_count": 3,
   "id": "6e520809",
   "metadata": {},
   "outputs": [],
   "source": [
    "lockin_id=10\n",
    "ac_6221_id=14\n",
    "\n",
    "ppms = Dynacool('192.168.0.7')\n",
    "ac=K6221(GPIBnum=ac_6221_id)\n",
    "lock=Lockin(GPIBnum=lockin_id)"
   ]
  },
  {
   "cell_type": "code",
   "execution_count": 4,
   "id": "bbc7082e",
   "metadata": {},
   "outputs": [],
   "source": [
    "import pyvisa as visa\n",
    "import time\n",
    "import numpy as np\n",
    "import pymeasure\n",
    "from pymeasure.instruments.keithley import Keithley2400\n",
    "import pandas as pd\n",
    "import matplotlib.pyplot as plt\n",
    "import datetime\n",
    "#from field_control import vsm_set_field, set_field, read_field\n",
    "from UtilsKeithley6221 import *\n",
    "import pylab as pl\n",
    "from IPython import display\n",
    "\n",
    "from matplotlib.ticker import FormatStrFormatter\n",
    "from matplotlib.ticker import StrMethodFormatter\n",
    "from matplotlib.ticker import AutoMinorLocator\n",
    "import matplotlib.ticker as ticker"
   ]
  },
  {
   "cell_type": "code",
   "execution_count": 5,
   "id": "3d769563",
   "metadata": {},
   "outputs": [
    {
     "data": {
      "text/plain": [
       "0"
      ]
     },
     "execution_count": 5,
     "metadata": {},
     "output_type": "execute_result"
    }
   ],
   "source": [
    "from UtilsPPMS import *\n",
    "ppms = Dynacool('192.168.0.7')\n",
    "ppms.setField(500)\n",
    "ppms.waitForField()"
   ]
  },
  {
   "cell_type": "code",
   "execution_count": 50,
   "id": "1ab1418a",
   "metadata": {},
   "outputs": [
    {
     "data": {
      "text/plain": [
       "0"
      ]
     },
     "execution_count": 50,
     "metadata": {},
     "output_type": "execute_result"
    }
   ],
   "source": [
    "ppms.setPosition(0)\n",
    "#ppms.waitForPosition()"
   ]
  },
  {
   "cell_type": "code",
   "execution_count": 7,
   "id": "403ec95f",
   "metadata": {},
   "outputs": [
    {
     "name": "stdout",
     "output_type": "stream",
     "text": [
      "2023-03-23 10:01:44.417401\n"
     ]
    }
   ],
   "source": [
    "import datetime\n",
    "print(datetime.datetime.now())"
   ]
  },
  {
   "cell_type": "code",
   "execution_count": 8,
   "id": "40b9aa31",
   "metadata": {},
   "outputs": [
    {
     "data": {
      "text/plain": [
       "('ASRL3::INSTR',\n",
       " 'GPIB0::10::INSTR',\n",
       " 'GPIB0::14::INSTR',\n",
       " 'GPIB0::15::INSTR',\n",
       " 'GPIB0::17::INSTR')"
      ]
     },
     "execution_count": 8,
     "metadata": {},
     "output_type": "execute_result"
    }
   ],
   "source": [
    "rm = pyvisa.ResourceManager()\n",
    "rm.list_resources()"
   ]
  },
  {
   "cell_type": "code",
   "execution_count": 9,
   "id": "e7d2d03e",
   "metadata": {},
   "outputs": [],
   "source": [
    "from UtilsKeithley6221 import *\n",
    "#from UtilsKeithley6221 import \n",
    "#Test Keithley 6221 connection. If it cannot connect, check the GPIB port (specify with K6221(GPIBnum=#))\n",
    "ac=K6221(GPIBnum=14)"
   ]
  },
  {
   "cell_type": "code",
   "execution_count": 34,
   "id": "48671b73",
   "metadata": {},
   "outputs": [
    {
     "data": {
      "text/plain": [
       "16"
      ]
     },
     "execution_count": 34,
     "metadata": {},
     "output_type": "execute_result"
    }
   ],
   "source": [
    "ac.ac.write(\"SOUR:WAVE:ABOR\")"
   ]
  },
  {
   "cell_type": "code",
   "execution_count": 11,
   "id": "0c628acf",
   "metadata": {},
   "outputs": [
    {
     "data": {
      "text/plain": [
       "(-1.4996454079e-09, 2.2513282349e-09, 2.6953053123e-09, 125.5626297)"
      ]
     },
     "execution_count": 11,
     "metadata": {},
     "output_type": "execute_result"
    }
   ],
   "source": [
    "from UtilsSR865A import *\n",
    "lock=Lockin()\n",
    "lock.readLockin()\n"
   ]
  },
  {
   "cell_type": "code",
   "execution_count": 12,
   "id": "298d88da",
   "metadata": {},
   "outputs": [],
   "source": [
    "from UtilsSR865A import *\n",
    "#lock.measureLockin(count=10, time_step=0.1,\n",
    "                        #wait_before_measure=10,\n",
    "                        #harm=1, sens=0.0001)"
   ]
  },
  {
   "cell_type": "code",
   "execution_count": 13,
   "id": "6d4d0e8f",
   "metadata": {},
   "outputs": [],
   "source": [
    "def angular_magnon_measurement(sample_id=''):\n",
    "    name = \"data/\"+sample_id\n",
    "    file_name = name+\".csv\"\n",
    "    \n",
    "    with open(file_name, 'a') as f:\n",
    "        f.write(\"angle,x\\n\")\n",
    "    \n",
    "    for i in angles:\n",
    "        ppms.setPosition(i)\n",
    "        ppms.waitForPosition()\n",
    "        ppms.getPosition()\n",
    "        #x,y,theta,r,std_x,std_y,std_theta,std_r = lock.measureLockin(10,0.1,10,1,0.00001)\n",
    "        r =  float(lock.lock_in.query(\"OUTP? 2\").strip())\n",
    "        \n",
    "        time.sleep(10)\n",
    "        with open(file_name, 'a') as f:\n",
    "            f.write('{},{}\\n'.format(i,r))\n",
    "        \n",
    "        \n",
    "        plotAngular(file_name)"
   ]
  },
  {
   "cell_type": "code",
   "execution_count": 49,
   "id": "62c330e9",
   "metadata": {},
   "outputs": [
    {
     "data": {
      "image/png": "[encoded data removed]",
      "text/plain": [
       "<Figure size 640x480 with 1 Axes>"
      ]
     },
     "metadata": {},
     "output_type": "display_data"
    },
    {
     "data": {
      "text/plain": [
       "<Figure size 640x480 with 0 Axes>"
      ]
     },
     "metadata": {},
     "output_type": "display_data"
    },
    {
     "data": {
      "text/plain": [
       "<Figure size 640x480 with 0 Axes>"
      ]
     },
     "metadata": {},
     "output_type": "display_data"
    },
    {
     "data": {
      "text/plain": [
       "<Figure size 640x480 with 0 Axes>"
      ]
     },
     "metadata": {},
     "output_type": "display_data"
    },
    {
     "data": {
      "text/plain": [
       "<Figure size 640x480 with 0 Axes>"
      ]
     },
     "metadata": {},
     "output_type": "display_data"
    },
    {
     "data": {
      "text/plain": [
       "<Figure size 640x480 with 0 Axes>"
      ]
     },
     "metadata": {},
     "output_type": "display_data"
    },
    {
     "data": {
      "text/plain": [
       "<Figure size 640x480 with 0 Axes>"
      ]
     },
     "metadata": {},
     "output_type": "display_data"
    },
    {
     "data": {
      "text/plain": [
       "<Figure size 640x480 with 0 Axes>"
      ]
     },
     "metadata": {},
     "output_type": "display_data"
    },
    {
     "data": {
      "text/plain": [
       "<Figure size 640x480 with 0 Axes>"
      ]
     },
     "metadata": {},
     "output_type": "display_data"
    },
    {
     "data": {
      "text/plain": [
       "<Figure size 640x480 with 0 Axes>"
      ]
     },
     "metadata": {},
     "output_type": "display_data"
    },
    {
     "data": {
      "text/plain": [
       "<Figure size 640x480 with 0 Axes>"
      ]
     },
     "metadata": {},
     "output_type": "display_data"
    },
    {
     "data": {
      "text/plain": [
       "<Figure size 640x480 with 0 Axes>"
      ]
     },
     "metadata": {},
     "output_type": "display_data"
    },
    {
     "data": {
      "text/plain": [
       "<Figure size 640x480 with 0 Axes>"
      ]
     },
     "metadata": {},
     "output_type": "display_data"
    },
    {
     "data": {
      "text/plain": [
       "<Figure size 640x480 with 0 Axes>"
      ]
     },
     "metadata": {},
     "output_type": "display_data"
    },
    {
     "data": {
      "text/plain": [
       "<Figure size 640x480 with 0 Axes>"
      ]
     },
     "metadata": {},
     "output_type": "display_data"
    },
    {
     "data": {
      "text/plain": [
       "<Figure size 640x480 with 0 Axes>"
      ]
     },
     "metadata": {},
     "output_type": "display_data"
    },
    {
     "data": {
      "text/plain": [
       "<Figure size 640x480 with 0 Axes>"
      ]
     },
     "metadata": {},
     "output_type": "display_data"
    },
    {
     "data": {
      "text/plain": [
       "<Figure size 640x480 with 0 Axes>"
      ]
     },
     "metadata": {},
     "output_type": "display_data"
    },
    {
     "data": {
      "text/plain": [
       "<Figure size 640x480 with 0 Axes>"
      ]
     },
     "metadata": {},
     "output_type": "display_data"
    },
    {
     "data": {
      "text/plain": [
       "<Figure size 640x480 with 0 Axes>"
      ]
     },
     "metadata": {},
     "output_type": "display_data"
    },
    {
     "data": {
      "text/plain": [
       "<Figure size 640x480 with 0 Axes>"
      ]
     },
     "metadata": {},
     "output_type": "display_data"
    },
    {
     "data": {
      "text/plain": [
       "<Figure size 640x480 with 0 Axes>"
      ]
     },
     "metadata": {},
     "output_type": "display_data"
    },
    {
     "data": {
      "text/plain": [
       "<Figure size 640x480 with 0 Axes>"
      ]
     },
     "metadata": {},
     "output_type": "display_data"
    },
    {
     "data": {
      "text/plain": [
       "<Figure size 640x480 with 0 Axes>"
      ]
     },
     "metadata": {},
     "output_type": "display_data"
    },
    {
     "data": {
      "text/plain": [
       "<Figure size 640x480 with 0 Axes>"
      ]
     },
     "metadata": {},
     "output_type": "display_data"
    },
    {
     "data": {
      "text/plain": [
       "<Figure size 640x480 with 0 Axes>"
      ]
     },
     "metadata": {},
     "output_type": "display_data"
    },
    {
     "data": {
      "text/plain": [
       "<Figure size 640x480 with 0 Axes>"
      ]
     },
     "metadata": {},
     "output_type": "display_data"
    },
    {
     "data": {
      "text/plain": [
       "<Figure size 640x480 with 0 Axes>"
      ]
     },
     "metadata": {},
     "output_type": "display_data"
    },
    {
     "data": {
      "text/plain": [
       "<Figure size 640x480 with 0 Axes>"
      ]
     },
     "metadata": {},
     "output_type": "display_data"
    },
    {
     "data": {
      "text/plain": [
       "<Figure size 640x480 with 0 Axes>"
      ]
     },
     "metadata": {},
     "output_type": "display_data"
    },
    {
     "data": {
      "text/plain": [
       "<Figure size 640x480 with 0 Axes>"
      ]
     },
     "metadata": {},
     "output_type": "display_data"
    },
    {
     "data": {
      "text/plain": [
       "<Figure size 640x480 with 0 Axes>"
      ]
     },
     "metadata": {},
     "output_type": "display_data"
    },
    {
     "data": {
      "text/plain": [
       "<Figure size 640x480 with 0 Axes>"
      ]
     },
     "metadata": {},
     "output_type": "display_data"
    },
    {
     "data": {
      "text/plain": [
       "<Figure size 640x480 with 0 Axes>"
      ]
     },
     "metadata": {},
     "output_type": "display_data"
    },
    {
     "data": {
      "text/plain": [
       "<Figure size 640x480 with 0 Axes>"
      ]
     },
     "metadata": {},
     "output_type": "display_data"
    },
    {
     "data": {
      "text/plain": [
       "<Figure size 640x480 with 0 Axes>"
      ]
     },
     "metadata": {},
     "output_type": "display_data"
    },
    {
     "data": {
      "text/plain": [
       "<Figure size 640x480 with 0 Axes>"
      ]
     },
     "metadata": {},
     "output_type": "display_data"
    },
    {
     "data": {
      "text/plain": [
       "<Figure size 640x480 with 0 Axes>"
      ]
     },
     "metadata": {},
     "output_type": "display_data"
    },
    {
     "data": {
      "image/png": "[encoded data removed]",
      "text/plain": [
       "<Figure size 640x480 with 1 Axes>"
      ]
     },
     "metadata": {},
     "output_type": "display_data"
    }
   ],
   "source": [
    "angular_magnon_measurement(sample_id=\"YIG(20)_GGG_sample2_2K_500G_0p1mA_17Hz\")"
   ]
  },
  {
   "cell_type": "code",
   "execution_count": 38,
   "id": "36fd152c",
   "metadata": {},
   "outputs": [
    {
     "data": {
      "text/plain": [
       "-0.00030517578125"
      ]
     },
     "execution_count": 38,
     "metadata": {},
     "output_type": "execute_result"
    }
   ],
   "source": [
    "ppms.getPosition()"
   ]
  },
  {
   "cell_type": "code",
   "execution_count": 15,
   "id": "db736311",
   "metadata": {},
   "outputs": [
    {
     "data": {
      "text/plain": [
       "0"
      ]
     },
     "execution_count": 15,
     "metadata": {},
     "output_type": "execute_result"
    }
   ],
   "source": [
    "ppms.setField(500)\n",
    "ppms.waitForField()"
   ]
  },
  {
   "cell_type": "code",
   "execution_count": 51,
   "id": "4829588f",
   "metadata": {},
   "outputs": [
    {
     "data": {
      "text/plain": [
       "0"
      ]
     },
     "execution_count": 51,
     "metadata": {},
     "output_type": "execute_result"
    }
   ],
   "source": [
    "ppms.setTemperature(300, rate=20)\n",
    "ppms.waitForTemperature()"
   ]
  },
  {
   "cell_type": "code",
   "execution_count": 48,
   "id": "5bb2b698",
   "metadata": {},
   "outputs": [],
   "source": [
    "ac.sinOut(amp=0.1e-3, duration='INF' ,freq=17, offs=0, wait_after_arm=2)\n"
   ]
  },
  {
   "cell_type": "code",
   "execution_count": 18,
   "id": "7cea9f17",
   "metadata": {},
   "outputs": [],
   "source": [
    "def plotAngular(file_name):\n",
    "    display.clear_output(wait=True)\n",
    "    #Plot current data\n",
    "    hlength = 0\n",
    "    with open(file_name) as myFile:\n",
    "        for num, line in enumerate(myFile, 1):\n",
    "            if 'Temp' in line:\n",
    "                hlength = num-1\n",
    "\n",
    "    df = pd.read_csv(file_name, header=hlength)\n",
    "    #print(df)\n",
    "    \n",
    "    plt.clf()\n",
    "    fig,ax=plt.subplots()\n",
    "    plt.suptitle(file_name.split('/')[-1]+'1')\n",
    "    \n",
    "\n",
    "    ax.plot(df.angle,df.x, color='k', linestyle='-',marker='o', markersize='2',linewidth=1)\n",
    "    ax.ticklabel_format(useOffset=False)\n",
    "    ax.set_xlabel('Angle(deg)')\n",
    "    ax.set_ylabel('V (Volts)')\n",
    "\n",
    "    plt.tick_params(direction='in', which='both', right=True, top=True)\n",
    "    #plt.tick_params(which='major', length=6)\n",
    "    #plt.tick_params(which='minor', length=3)\n",
    "    plt.gca().xaxis.set_minor_locator(ticker.AutoMinorLocator())\n",
    "    plt.gca().yaxis.set_minor_locator(ticker.AutoMinorLocator())\n",
    "    #plt.yaxis.set_major_formatter(FormatStrFormatter('%.2f'))\n",
    "    #plt.gca().yaxis.set_major_formatter(StrMethodFormatter('{x:,.2f}'))\n",
    "    plt.rcParams['font.family'] = \"Arial\"    \n",
    "    \n",
    "    fig.savefig(file_name[:-4]+'.png', dpi=600)\n",
    "    display.display(plt.gcf())"
   ]
  },
  {
   "cell_type": "code",
   "execution_count": null,
   "id": "b7093b6c",
   "metadata": {},
   "outputs": [],
   "source": []
  }
 ],
 "metadata": {
  "kernelspec": {
   "display_name": "Python 3 (ipykernel)",
   "language": "python",
   "name": "python3"
  },
  "language_info": {
   "codemirror_mode": {
    "name": "ipython",
    "version": 3
   },
   "file_extension": ".py",
   "mimetype": "text/x-python",
   "name": "python",
   "nbconvert_exporter": "python",
   "pygments_lexer": "ipython3",
   "version": "3.7.0"
  }
 },
 "nbformat": 4,
 "nbformat_minor": 5
}
