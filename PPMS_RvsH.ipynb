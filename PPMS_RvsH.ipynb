{
 "cells": [
  {
   "cell_type": "code",
   "execution_count": 1,
   "metadata": {},
   "outputs": [
    {
     "name": "stdout",
     "output_type": "stream",
     "text": [
      "2023-02-19 16:17:31.029132\n"
     ]
    }
   ],
   "source": [
    "import pyvisa as visa\n",
    "import time\n",
    "import numpy as np\n",
    "from pymeasure.instruments.keithley import Keithley2400\n",
    "import pandas as pd\n",
    "import matplotlib\n",
    "import matplotlib.pyplot as plt\n",
    "from UtilsBasic import *\n",
    "\n",
    "from matplotlib.ticker import FormatStrFormatter\n",
    "from matplotlib.ticker import StrMethodFormatter\n",
    "from matplotlib.ticker import AutoMinorLocator\n",
    "import matplotlib.ticker as ticker\n",
    "\n",
    "import pylab as pl\n",
    "from IPython import display\n",
    "N = 100000 # minimum digit 10uA\n",
    "import datetime\n",
    "print(datetime.datetime.now())\n",
    "#from field_control import vsm_set_field, set_field, read_field\n",
    "import os\n",
    "rm = visa.ResourceManager()\n",
    "rm.list_resources()\n",
    "\n",
    "def connect(address, name=None, logs=None):\n",
    "    rm = visa.ResourceManager()\n",
    "    if address is None:\n",
    "        return None\n",
    "    else:\n",
    "        try:\n",
    "            if not name:\n",
    "                device = rm.open_resource(address)\n",
    "                if logs:\n",
    "                    logs.add(\"{}:  {}\".format(address, device.query(\"*IDN?\").strip()))\n",
    "\n",
    "                print(device.query(\"*IDN?\"))\n",
    "            else:\n",
    "                device = Keithley2400(address)\n",
    "                if logs:\n",
    "                    logs.add(\"{}:  {}\".format(address, device.id.strip()))\n",
    "\n",
    "                print(device.id)\n",
    "                # check connection\n",
    "            return device\n",
    "        except Exception as e:\n",
    "            if logs:\n",
    "                logs.add(\"error: {}\".format(e))\n",
    "            print(e)\n",
    "            return None\n",
    "\n",
    "from UtilsPPMS import *\n",
    "ppms = Dynacool('192.168.0.7')\n",
    "# ppms.setField(0)\n",
    "# ppms.setTemperature(300)\n",
    "# ppms.waitForField()\n",
    "# ppms.waitForTemperature()"
   ]
  },
  {
   "cell_type": "code",
   "execution_count": 3,
   "metadata": {},
   "outputs": [
    {
     "name": "stdout",
     "output_type": "stream",
     "text": [
      "299.999267578125\n",
      "0.16756224632263184\n"
     ]
    }
   ],
   "source": [
    "print(ppms.getTemperature()[1])\n",
    "print(ppms.getField()[1])"
   ]
  },
  {
   "cell_type": "code",
   "execution_count": 2,
   "metadata": {},
   "outputs": [],
   "source": [
    "def plotRvsH(file_name):\n",
    "    display.clear_output(wait=True)\n",
    "    #Plot current data\n",
    "    hlength = 0\n",
    "    with open(file_name) as myFile:\n",
    "        for num, line in enumerate(myFile, 1):\n",
    "            if 'field' in line:\n",
    "                hlength = num-1\n",
    "\n",
    "    df = pd.read_csv(file_name, header=hlength)\n",
    "    \n",
    "    plt.clf()\n",
    "    fig,ax=plt.subplots()\n",
    "    plt.suptitle(file_name.split('/')[-1]+'1')\n",
    "    \n",
    "\n",
    "    ax.plot(df.field,df.average_v/df.dc_current, color='k', linestyle='-',marker='o', markersize='2',linewidth=1)\n",
    "    ax.ticklabel_format(useOffset=False)\n",
    "    ax.set_xlabel('Field(Oe)')\n",
    "    ax.set_ylabel('R$_{xx}$ ($\\Omega$)')\n",
    "\n",
    "    plt.tick_params(direction='in', which='both', right=True, top=True)\n",
    "    #plt.tick_params(which='major', length=6)\n",
    "    #plt.tick_params(which='minor', length=3)\n",
    "    plt.gca().xaxis.set_minor_locator(ticker.AutoMinorLocator())\n",
    "    plt.gca().yaxis.set_minor_locator(ticker.AutoMinorLocator())\n",
    "    #plt.yaxis.set_major_formatter(FormatStrFormatter('%.2f'))\n",
    "    #plt.gca().yaxis.set_major_formatter(StrMethodFormatter('{x:,.2f}'))\n",
    "    plt.rcParams['font.family'] = \"Arial\"    \n",
    "    \n",
    "    fig.savefig(file_name[:-4]+'.png', dpi=600)\n",
    "    display.display(plt.gcf())"
   ]
  },
  {
   "cell_type": "code",
   "execution_count": 17,
   "metadata": {},
   "outputs": [],
   "source": [
    "dc_2400_id = 15\n",
    "nanovolt_id = 17\n",
    "\n",
    "dc = Keithley2400(\"GPIB::{}\".format(dc_2400_id))\n",
    "volt = rm.open_resource('GPIB0::{}::INSTR'.format(nanovolt_id))\n",
    "\n",
    "def measure_resistance(dc, volt, dc_current=100e-6, measure_points=30, skip_points=5, time_per_point=0.1):\n",
    "    dc.apply_current()  # Sets up to source current\n",
    "    #dc.source_current_range = 1e-6   # Sets the source current range to 10 mA\n",
    "    dc.compliance_voltage = 20        # Sets the compliance voltage to 10 V\n",
    "    dc.source_current = dc_current            # Sets the source current to 0 mA\n",
    "    dc.enable_source() \n",
    "    time.sleep(6)\n",
    "    v_up = []\n",
    "    for i in range(30):  # apply positive current\n",
    "        time.sleep(time_per_point)\n",
    "        if i < skip_points:\n",
    "            continue\n",
    "        v_up.append(float(volt.query(\"fetch?\")))\n",
    "    v_up = sorted(v_up)\n",
    "    v_up = v_up[3: -3]\n",
    "    dc.source_current = -1 * dc_current\n",
    "    dc.enable_source() \n",
    "    \n",
    "    v_down = []\n",
    "    for i in range(measure_points):   # apply negative current\n",
    "        time.sleep(time_per_point)\n",
    "        if i < skip_points:\n",
    "            continue\n",
    "        v_down.append(float(volt.query(\"fetch?\")))\n",
    "    \n",
    "    dc.shutdown() \n",
    "    \n",
    "    v_down = sorted(v_down)\n",
    "    v_down = v_down[3: -3]\n",
    "    \n",
    "    average_v = (np.array(v_up).mean() - np.array(v_down).mean())/2\n",
    "    std_v = (np.array(v_up).std() + np.array(v_down).std())/2\n",
    "    return average_v, std_v\n",
    "\n",
    "def VoltMeasWithInputF(fields, sample_id='',dc_current=1e-4, wait_after_hall=2, temp=300,note='',\n",
    "                           dc=dc,volt=volt, ppms=ppms,longnote='',waitafterT=10):\n",
    "    ppms.setTemperature(temp)\n",
    "    ppms.waitForTemperature()\n",
    "    print('temp reached, waiting for equillibrium...')\n",
    "    time.sleep(waitafterT)\n",
    "    Treading=ppms.getTemperature()[1]\n",
    "    name = \"./data/PPMS_RvsH/\"+sample_id+\"/{}_{}\".format(time.strftime(\"%m%d_%H%M\", time.localtime()),note)\n",
    "    file_name = name+\".csv\"\n",
    "    try:\n",
    "        os.mkdir(\"./data/PPMS_RvsH/\"+sample_id)\n",
    "    except OSError:\n",
    "        pass\n",
    "    \n",
    "    with open(file_name, 'a') as f:\n",
    "        f.write(\"sample id:{}\\nnote:{}\\nresistance measurement dc current(A):{}\\nwait after hall(s):{}\\nTemp(K):{}\\nwait after T(s):{}\\n\".format(sample_id,longnote,dc_current,wait_after_hall,Treading,waitafterT))\n",
    "        f.write(\"field,average_v,std_v,dc_current\\n\")\n",
    "        \n",
    "    for field in fields:\n",
    "        print('setting field...')\n",
    "        ppms.setField(field)\n",
    "        ppms.waitForField()\n",
    "        Freading=ppms.getField()[1]\n",
    "        time.sleep(1)\n",
    "        average_v,std_v=measure_resistance(dc,volt,dc_current=dc_current)\n",
    "        \n",
    "        time.sleep(wait_after_hall)\n",
    "        with open(file_name, 'a') as f:\n",
    "            f.write('{},{},{},{}\\n'.format(Freading,average_v,std_v,dc_current))\n",
    "        display.clear_output(wait=True)\n",
    "        plotRvsH(file_name)\n",
    "    \n",
    "        \n",
    "def checknoise(npts=200,cur=1e-4,tafteron=1,tpp=0.02):\n",
    "    fast_switch16.sendCommand(\"reset\")\n",
    "    fast_switch16.sendCommand(\"on 2\")\n",
    "    time.sleep(0.1)\n",
    "    dc.apply_current()  # Sets up to source current\n",
    "    dc.source_current_range = 10e-3   # Sets the source current range to 10 mA\n",
    "    dc.compliance_voltage = 20        # Sets the compliance voltage to 10 V\n",
    "    dc.source_current = cur           # Sets the source current to 0 mA\n",
    "    dc.enable_source() \n",
    "    time.sleep(tafteron)\n",
    "    r = []\n",
    "    for i in range(npts):\n",
    "        time.sleep(tpp)\n",
    "        v=float(volt.query(\"fetch?\"))\n",
    "        r.append(v/cur)\n",
    "\n",
    "    dc.shutdown() \n",
    "    plt.plot(r)\n",
    "    plt.ylabel('Rxy')\n",
    "    plt.xlabel('point index')\n",
    "    print('std deviation:'+str(np.std(r)))"
   ]
  },
  {
   "cell_type": "code",
   "execution_count": 21,
   "metadata": {},
   "outputs": [
    {
     "name": "stdout",
     "output_type": "stream",
     "text": [
      "0.17558032860526315\n"
     ]
    }
   ],
   "source": [
    "v,std=measure_resistance(dc,volt,dc_current=1e-4)\n",
    "print(v)"
   ]
  },
  {
   "cell_type": "code",
   "execution_count": 24,
   "metadata": {},
   "outputs": [
    {
     "data": {
      "text/plain": [
       "0"
      ]
     },
     "execution_count": 24,
     "metadata": {},
     "output_type": "execute_result"
    }
   ],
   "source": [
    "\n",
    "ppms.setField(0)\n",
    "ppms.setTemperature(300)"
   ]
  },
  {
   "cell_type": "code",
   "execution_count": 23,
   "metadata": {
    "scrolled": false
   },
   "outputs": [
    {
     "data": {
      "image/png": "[encoded data removed]",
      "text/plain": [
       "<Figure size 640x480 with 1 Axes>"
      ]
     },
     "metadata": {},
     "output_type": "display_data"
    },
    {
     "name": "stdout",
     "output_type": "stream",
     "text": [
      "setting field...\n"
     ]
    },
    {
     "ename": "KeyboardInterrupt",
     "evalue": "",
     "output_type": "error",
     "traceback": [
      "\u001b[1;31m---------------------------------------------------------------------------\u001b[0m",
      "\u001b[1;31mKeyboardInterrupt\u001b[0m                         Traceback (most recent call last)",
      "\u001b[1;32m~\\AppData\\Local\\Temp\\3\\ipykernel_13036\\2324227416.py\u001b[0m in \u001b[0;36m<module>\u001b[1;34m\u001b[0m\n\u001b[0;32m      4\u001b[0m     \u001b[0mnote\u001b[0m\u001b[1;33m=\u001b[0m\u001b[1;34m'RxyScan'\u001b[0m\u001b[1;33m+\u001b[0m\u001b[0mstr\u001b[0m\u001b[1;33m(\u001b[0m\u001b[0mtemp\u001b[0m\u001b[1;33m)\u001b[0m\u001b[1;33m+\u001b[0m\u001b[1;34m'K'\u001b[0m\u001b[1;33m\u001b[0m\u001b[0m\n\u001b[0;32m      5\u001b[0m     VoltMeasWithInputF(fields, sample_id='LMB535_Se(30)_Bi2Se3(9)_Al2O3(0001)',dc_current=1e-4, wait_after_hall=2, temp=temp,note=note,\n\u001b[1;32m----> 6\u001b[1;33m                                dc=dc,volt=volt, ppms=ppms,longnote='',waitafterT=300)\n\u001b[0m\u001b[0;32m      7\u001b[0m \u001b[0mppms\u001b[0m\u001b[1;33m.\u001b[0m\u001b[0msetField\u001b[0m\u001b[1;33m(\u001b[0m\u001b[1;36m0\u001b[0m\u001b[1;33m)\u001b[0m\u001b[1;33m\u001b[0m\u001b[0m\n\u001b[0;32m      8\u001b[0m \u001b[0mppms\u001b[0m\u001b[1;33m.\u001b[0m\u001b[0msetTemperature\u001b[0m\u001b[1;33m(\u001b[0m\u001b[1;36m300\u001b[0m\u001b[1;33m)\u001b[0m\u001b[1;33m\u001b[0m\u001b[0m\n",
      "\u001b[1;32m~\\AppData\\Local\\Temp\\3\\ipykernel_13036\\4190564640.py\u001b[0m in \u001b[0;36mVoltMeasWithInputF\u001b[1;34m(fields, sample_id, dc_current, wait_after_hall, temp, note, dc, volt, ppms, longnote, waitafterT)\u001b[0m\n\u001b[0;32m     60\u001b[0m         \u001b[0mprint\u001b[0m\u001b[1;33m(\u001b[0m\u001b[1;34m'setting field...'\u001b[0m\u001b[1;33m)\u001b[0m\u001b[1;33m\u001b[0m\u001b[0m\n\u001b[0;32m     61\u001b[0m         \u001b[0mppms\u001b[0m\u001b[1;33m.\u001b[0m\u001b[0msetField\u001b[0m\u001b[1;33m(\u001b[0m\u001b[0mfield\u001b[0m\u001b[1;33m)\u001b[0m\u001b[1;33m\u001b[0m\u001b[0m\n\u001b[1;32m---> 62\u001b[1;33m         \u001b[0mppms\u001b[0m\u001b[1;33m.\u001b[0m\u001b[0mwaitForField\u001b[0m\u001b[1;33m(\u001b[0m\u001b[1;33m)\u001b[0m\u001b[1;33m\u001b[0m\u001b[0m\n\u001b[0m\u001b[0;32m     63\u001b[0m         \u001b[0mFreading\u001b[0m\u001b[1;33m=\u001b[0m\u001b[0mppms\u001b[0m\u001b[1;33m.\u001b[0m\u001b[0mgetField\u001b[0m\u001b[1;33m(\u001b[0m\u001b[1;33m)\u001b[0m\u001b[1;33m[\u001b[0m\u001b[1;36m1\u001b[0m\u001b[1;33m]\u001b[0m\u001b[1;33m\u001b[0m\u001b[0m\n\u001b[0;32m     64\u001b[0m         \u001b[0mtime\u001b[0m\u001b[1;33m.\u001b[0m\u001b[0msleep\u001b[0m\u001b[1;33m(\u001b[0m\u001b[1;36m1\u001b[0m\u001b[1;33m)\u001b[0m\u001b[1;33m\u001b[0m\u001b[0m\n",
      "\u001b[1;32m~\\Desktop\\Measurements\\UtilsPPMS.py\u001b[0m in \u001b[0;36mwaitForField\u001b[1;34m(self, delay, timeout)\u001b[0m\n\u001b[0;32m     75\u001b[0m     \u001b[1;32mdef\u001b[0m \u001b[0mwaitForField\u001b[0m\u001b[1;33m(\u001b[0m\u001b[0mself\u001b[0m\u001b[1;33m,\u001b[0m \u001b[0mdelay\u001b[0m\u001b[1;33m=\u001b[0m\u001b[1;36m2\u001b[0m\u001b[1;33m,\u001b[0m \u001b[0mtimeout\u001b[0m\u001b[1;33m=\u001b[0m\u001b[1;36m3600\u001b[0m\u001b[1;33m)\u001b[0m\u001b[1;33m:\u001b[0m\u001b[1;33m\u001b[0m\u001b[0m\n\u001b[0;32m     76\u001b[0m         \u001b[1;34m\"\"\"Pause execution until the PPMS reaches the field setpoint.\"\"\"\u001b[0m\u001b[1;33m\u001b[0m\u001b[0m\n\u001b[1;32m---> 77\u001b[1;33m         \u001b[1;32mreturn\u001b[0m \u001b[0mself\u001b[0m\u001b[1;33m.\u001b[0m\u001b[0mqdi_instrument\u001b[0m\u001b[1;33m.\u001b[0m\u001b[0mWaitFor\u001b[0m\u001b[1;33m(\u001b[0m\u001b[1;32mFalse\u001b[0m\u001b[1;33m,\u001b[0m \u001b[1;32mTrue\u001b[0m\u001b[1;33m,\u001b[0m \u001b[1;32mFalse\u001b[0m\u001b[1;33m,\u001b[0m \u001b[1;32mFalse\u001b[0m\u001b[1;33m,\u001b[0m \u001b[0mdelay\u001b[0m\u001b[1;33m,\u001b[0m \u001b[0mtimeout\u001b[0m\u001b[1;33m)\u001b[0m\u001b[1;33m\u001b[0m\u001b[0m\n\u001b[0m\u001b[0;32m     78\u001b[0m \u001b[1;33m\u001b[0m\u001b[0m\n\u001b[0;32m     79\u001b[0m     \u001b[1;34m\"\"\"Handle motor rotation of the PPMS. Get/Set/WaitForStabilizing\"\"\"\u001b[0m\u001b[1;33m\u001b[0m\u001b[0m\n",
      "\u001b[1;31mKeyboardInterrupt\u001b[0m: "
     ]
    },
    {
     "data": {
      "text/plain": [
       "<Figure size 640x480 with 0 Axes>"
      ]
     },
     "metadata": {},
     "output_type": "display_data"
    },
    {
     "data": {
      "text/plain": [
       "<Figure size 640x480 with 0 Axes>"
      ]
     },
     "metadata": {},
     "output_type": "display_data"
    },
    {
     "data": {
      "text/plain": [
       "<Figure size 640x480 with 0 Axes>"
      ]
     },
     "metadata": {},
     "output_type": "display_data"
    },
    {
     "data": {
      "text/plain": [
       "<Figure size 640x480 with 0 Axes>"
      ]
     },
     "metadata": {},
     "output_type": "display_data"
    },
    {
     "data": {
      "text/plain": [
       "<Figure size 640x480 with 0 Axes>"
      ]
     },
     "metadata": {},
     "output_type": "display_data"
    },
    {
     "data": {
      "text/plain": [
       "<Figure size 640x480 with 0 Axes>"
      ]
     },
     "metadata": {},
     "output_type": "display_data"
    },
    {
     "data": {
      "text/plain": [
       "<Figure size 640x480 with 0 Axes>"
      ]
     },
     "metadata": {},
     "output_type": "display_data"
    },
    {
     "data": {
      "text/plain": [
       "<Figure size 640x480 with 0 Axes>"
      ]
     },
     "metadata": {},
     "output_type": "display_data"
    },
    {
     "data": {
      "text/plain": [
       "<Figure size 640x480 with 0 Axes>"
      ]
     },
     "metadata": {},
     "output_type": "display_data"
    },
    {
     "data": {
      "text/plain": [
       "<Figure size 640x480 with 0 Axes>"
      ]
     },
     "metadata": {},
     "output_type": "display_data"
    },
    {
     "data": {
      "text/plain": [
       "<Figure size 640x480 with 0 Axes>"
      ]
     },
     "metadata": {},
     "output_type": "display_data"
    },
    {
     "data": {
      "text/plain": [
       "<Figure size 640x480 with 0 Axes>"
      ]
     },
     "metadata": {},
     "output_type": "display_data"
    },
    {
     "data": {
      "text/plain": [
       "<Figure size 640x480 with 0 Axes>"
      ]
     },
     "metadata": {},
     "output_type": "display_data"
    },
    {
     "data": {
      "text/plain": [
       "<Figure size 640x480 with 0 Axes>"
      ]
     },
     "metadata": {},
     "output_type": "display_data"
    },
    {
     "data": {
      "text/plain": [
       "<Figure size 640x480 with 0 Axes>"
      ]
     },
     "metadata": {},
     "output_type": "display_data"
    },
    {
     "data": {
      "text/plain": [
       "<Figure size 640x480 with 0 Axes>"
      ]
     },
     "metadata": {},
     "output_type": "display_data"
    },
    {
     "data": {
      "text/plain": [
       "<Figure size 640x480 with 0 Axes>"
      ]
     },
     "metadata": {},
     "output_type": "display_data"
    },
    {
     "data": {
      "text/plain": [
       "<Figure size 640x480 with 0 Axes>"
      ]
     },
     "metadata": {},
     "output_type": "display_data"
    },
    {
     "data": {
      "text/plain": [
       "<Figure size 640x480 with 0 Axes>"
      ]
     },
     "metadata": {},
     "output_type": "display_data"
    },
    {
     "data": {
      "text/plain": [
       "<Figure size 640x480 with 0 Axes>"
      ]
     },
     "metadata": {},
     "output_type": "display_data"
    },
    {
     "data": {
      "text/plain": [
       "<Figure size 640x480 with 0 Axes>"
      ]
     },
     "metadata": {},
     "output_type": "display_data"
    },
    {
     "data": {
      "image/png": "[encoded data removed]",
      "text/plain": [
       "<Figure size 640x480 with 1 Axes>"
      ]
     },
     "metadata": {},
     "output_type": "display_data"
    }
   ],
   "source": [
    "fields=createArraywithSteps([30000,-30000,30000],[-1000,1000])\n",
    "temps=[300,200,100]\n",
    "for temp in temps:\n",
    "    note='RxyScan'+str(temp)+'K'\n",
    "    VoltMeasWithInputF(fields, sample_id='LMB535_Se(30)_Bi2Se3(9)_Al2O3(0001)',dc_current=1e-4, wait_after_hall=2, temp=temp,note=note,\n",
    "                               dc=dc,volt=volt, ppms=ppms,longnote='',waitafterT=300)\n",
    "ppms.setField(0)\n",
    "ppms.setTemperature(300)"
   ]
  },
  {
   "cell_type": "code",
   "execution_count": 2,
   "metadata": {},
   "outputs": [
    {
     "name": "stdout",
     "output_type": "stream",
     "text": [
      "Successfully pinged the PPMS IP address 192.168.0.7 \n",
      "The PPMS: <UtilsPPMS.Dynacool object at 0x00000140E59D98D0>\n",
      "Current field: -0.0372360534965992G\n",
      "Current temperature: 299.8503723144531K\n"
     ]
    },
    {
     "data": {
      "text/plain": [
       "<UtilsPPMS.Dynacool at 0x140e59d98d0>"
      ]
     },
     "execution_count": 2,
     "metadata": {},
     "output_type": "execute_result"
    }
   ],
   "source": [
    "connect2PPMS('192.168.0.7')"
   ]
  },
  {
   "cell_type": "markdown",
   "metadata": {},
   "source": [
    "## List connected devices"
   ]
  },
  {
   "cell_type": "code",
   "execution_count": 29,
   "metadata": {},
   "outputs": [
    {
     "data": {
      "text/plain": [
       "('ASRL3::INSTR',\n",
       " 'ASRL5::INSTR',\n",
       " 'ASRL10::INSTR',\n",
       " 'GPIB0::10::INSTR',\n",
       " 'GPIB0::16::INSTR')"
      ]
     },
     "execution_count": 29,
     "metadata": {},
     "output_type": "execute_result"
    }
   ],
   "source": [
    "rm = pyvisa.ResourceManager()\n",
    "rm.list_resources()"
   ]
  },
  {
   "cell_type": "markdown",
   "metadata": {},
   "source": [
    "## Keithley 6221 AC current source\n",
    "Connects to the 6221 and first outputs a pulse, followed by a sine wave"
   ]
  },
  {
   "cell_type": "code",
   "execution_count": 30,
   "metadata": {},
   "outputs": [],
   "source": [
    "from UtilsKeithley6221 import *\n",
    "\n",
    "#Test Keithley 6221 connection. If it cannot connect, check the GPIB port (specify with K6221(GPIBnum=#))\n",
    "ac=K6221()\n",
    "#Output a 10uA pulse\n",
    "ac.pulseOut()\n",
    "#Output a 10uA indefinite length sine wave\n",
    "ac.sinOut()"
   ]
  },
  {
   "cell_type": "markdown",
   "metadata": {},
   "source": [
    "## SR865A Lock-In Amplifier \n",
    "Connects to and reads the Lock in parameters"
   ]
  },
  {
   "cell_type": "code",
   "execution_count": 31,
   "metadata": {},
   "outputs": [
    {
     "data": {
      "text/plain": [
       "(6.5432664087e-07, -1.3170010789e-06, 1.2890700418e-06, -127.38214111)"
      ]
     },
     "execution_count": 31,
     "metadata": {},
     "output_type": "execute_result"
    }
   ],
   "source": [
    "from UtilsSR865A import *\n",
    "lock=Lockin()\n",
    "lock.readLockin()"
   ]
  },
  {
   "cell_type": "code",
   "execution_count": 32,
   "metadata": {},
   "outputs": [
    {
     "name": "stdout",
     "output_type": "stream",
     "text": [
      "The final array generated is  [1, 3, 5, 7, 9, 10]\n"
     ]
    },
    {
     "data": {
      "text/plain": [
       "[1, 3, 5, 7, 9, 10]"
      ]
     },
     "execution_count": 32,
     "metadata": {},
     "output_type": "execute_result"
    }
   ],
   "source": [
    "from UtilsBasic import *\n",
    "createArraywithSteps([1,10],[2])"
   ]
  }
 ],
 "metadata": {
  "kernelspec": {
   "display_name": "Python 3 (ipykernel)",
   "language": "python",
   "name": "python3"
  },
  "language_info": {
   "codemirror_mode": {
    "name": "ipython",
    "version": 3
   },
   "file_extension": ".py",
   "mimetype": "text/x-python",
   "name": "python",
   "nbconvert_exporter": "python",
   "pygments_lexer": "ipython3",
   "version": "3.7.0"
  }
 },
 "nbformat": 4,
 "nbformat_minor": 1
}
